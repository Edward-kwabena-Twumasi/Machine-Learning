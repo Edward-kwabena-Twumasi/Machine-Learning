{
  "cells": [
    {
      "cell_type": "markdown",
      "metadata": {
        "id": "view-in-github",
        "colab_type": "text"
      },
      "source": [
        "<a href=\"https://colab.research.google.com/github/devkyle4/Machine-Learning/blob/main/COCOA_STOCK_PRICE_PREDICTOR.ipynb\" target=\"_parent\"><img src=\"https://colab.research.google.com/assets/colab-badge.svg\" alt=\"Open In Colab\"/></a>"
      ]
    },
    {
      "cell_type": "code",
      "execution_count": null,
      "metadata": {
        "colab": {
          "base_uri": "https://localhost:8080/"
        },
        "id": "oWHJ-eirwA_y",
        "outputId": "ec761557-7884-4dd1-af7f-b241da86e13e",
        "scrolled": false
      },
      "outputs": [
        {
          "name": "stdout",
          "output_type": "stream",
          "text": [
            "Requirement already satisfied: yfinance in c:\\users\\kyle\\anaconda3\\lib\\site-packages (0.1.70)\n",
            "Requirement already satisfied: requests>=2.26 in c:\\users\\kyle\\anaconda3\\lib\\site-packages (from yfinance) (2.26.0)\n",
            "Requirement already satisfied: lxml>=4.5.1 in c:\\users\\kyle\\anaconda3\\lib\\site-packages (from yfinance) (4.6.3)\n",
            "Requirement already satisfied: multitasking>=0.0.7 in c:\\users\\kyle\\anaconda3\\lib\\site-packages (from yfinance) (0.0.10)\n",
            "Requirement already satisfied: pandas>=0.24.0 in c:\\users\\kyle\\anaconda3\\lib\\site-packages (from yfinance) (1.3.4)\n",
            "Requirement already satisfied: numpy>=1.15 in c:\\users\\kyle\\anaconda3\\lib\\site-packages (from yfinance) (1.20.3)\n",
            "Requirement already satisfied: pytz>=2017.3 in c:\\users\\kyle\\anaconda3\\lib\\site-packages (from pandas>=0.24.0->yfinance) (2021.3)\n",
            "Requirement already satisfied: python-dateutil>=2.7.3 in c:\\users\\kyle\\anaconda3\\lib\\site-packages (from pandas>=0.24.0->yfinance) (2.8.2)\n",
            "Requirement already satisfied: six>=1.5 in c:\\users\\kyle\\anaconda3\\lib\\site-packages (from python-dateutil>=2.7.3->pandas>=0.24.0->yfinance) (1.16.0)\n",
            "Requirement already satisfied: idna<4,>=2.5 in c:\\users\\kyle\\anaconda3\\lib\\site-packages (from requests>=2.26->yfinance) (3.2)\n",
            "Requirement already satisfied: urllib3<1.27,>=1.21.1 in c:\\users\\kyle\\anaconda3\\lib\\site-packages (from requests>=2.26->yfinance) (1.26.7)\n",
            "Requirement already satisfied: certifi>=2017.4.17 in c:\\users\\kyle\\anaconda3\\lib\\site-packages (from requests>=2.26->yfinance) (2021.10.8)\n",
            "Requirement already satisfied: charset-normalizer~=2.0.0 in c:\\users\\kyle\\anaconda3\\lib\\site-packages (from requests>=2.26->yfinance) (2.0.4)\n"
          ]
        }
      ],
      "source": [
        "! pip install yfinance "
      ]
    },
    {
      "cell_type": "code",
      "execution_count": null,
      "metadata": {
        "id": "um3LV9Xjiz-N"
      },
      "outputs": [],
      "source": [
        "import pandas as pd \n",
        "import numpy as np\n",
        "\n",
        "import yfinance as yf\n",
        "\n",
        "import seaborn as sns\n",
        "import matplotlib.pyplot as plt\n",
        "%matplotlib inline"
      ]
    },
    {
      "cell_type": "code",
      "execution_count": null,
      "metadata": {
        "colab": {
          "base_uri": "https://localhost:8080/",
          "height": 272
        },
        "id": "MPzdGm0MV0UG",
        "outputId": "6f00581b-2e30-4c87-c6e1-9b4638584b0a"
      },
      "outputs": [
        {
          "name": "stdout",
          "output_type": "stream",
          "text": [
            "Enter the code of the stock: CC=F\n",
            "[*********************100%***********************]  1 of 1 completed\n"
          ]
        },
        {
          "data": {
            "text/html": [
              "<div>\n",
              "<style scoped>\n",
              "    .dataframe tbody tr th:only-of-type {\n",
              "        vertical-align: middle;\n",
              "    }\n",
              "\n",
              "    .dataframe tbody tr th {\n",
              "        vertical-align: top;\n",
              "    }\n",
              "\n",
              "    .dataframe thead th {\n",
              "        text-align: right;\n",
              "    }\n",
              "</style>\n",
              "<table border=\"1\" class=\"dataframe\">\n",
              "  <thead>\n",
              "    <tr style=\"text-align: right;\">\n",
              "      <th></th>\n",
              "      <th>Open</th>\n",
              "      <th>High</th>\n",
              "      <th>Low</th>\n",
              "      <th>Close</th>\n",
              "      <th>Volume</th>\n",
              "    </tr>\n",
              "    <tr>\n",
              "      <th>Date</th>\n",
              "      <th></th>\n",
              "      <th></th>\n",
              "      <th></th>\n",
              "      <th></th>\n",
              "      <th></th>\n",
              "    </tr>\n",
              "  </thead>\n",
              "  <tbody>\n",
              "    <tr>\n",
              "      <th>2008-01-02</th>\n",
              "      <td>2028.0</td>\n",
              "      <td>2105.0</td>\n",
              "      <td>2028.0</td>\n",
              "      <td>2097.0</td>\n",
              "      <td>10055</td>\n",
              "    </tr>\n",
              "    <tr>\n",
              "      <th>2008-01-03</th>\n",
              "      <td>2097.0</td>\n",
              "      <td>2141.0</td>\n",
              "      <td>2081.0</td>\n",
              "      <td>2120.0</td>\n",
              "      <td>11139</td>\n",
              "    </tr>\n",
              "    <tr>\n",
              "      <th>2008-01-04</th>\n",
              "      <td>2120.0</td>\n",
              "      <td>2125.0</td>\n",
              "      <td>2078.0</td>\n",
              "      <td>2098.0</td>\n",
              "      <td>9298</td>\n",
              "    </tr>\n",
              "    <tr>\n",
              "      <th>2008-01-07</th>\n",
              "      <td>2097.0</td>\n",
              "      <td>2164.0</td>\n",
              "      <td>2093.0</td>\n",
              "      <td>2131.0</td>\n",
              "      <td>8050</td>\n",
              "    </tr>\n",
              "    <tr>\n",
              "      <th>2008-01-08</th>\n",
              "      <td>2131.0</td>\n",
              "      <td>2176.0</td>\n",
              "      <td>2131.0</td>\n",
              "      <td>2156.0</td>\n",
              "      <td>10134</td>\n",
              "    </tr>\n",
              "  </tbody>\n",
              "</table>\n",
              "</div>"
            ],
            "text/plain": [
              "              Open    High     Low   Close  Volume\n",
              "Date                                              \n",
              "2008-01-02  2028.0  2105.0  2028.0  2097.0   10055\n",
              "2008-01-03  2097.0  2141.0  2081.0  2120.0   11139\n",
              "2008-01-04  2120.0  2125.0  2078.0  2098.0    9298\n",
              "2008-01-07  2097.0  2164.0  2093.0  2131.0    8050\n",
              "2008-01-08  2131.0  2176.0  2131.0  2156.0   10134"
            ]
          },
          "execution_count": 3,
          "metadata": {},
          "output_type": "execute_result"
        }
      ],
      "source": [
        "stocks = input(\"Enter the code of the stock: \")\n",
        "df = yf.download(stocks,\"2008-01-01\", \"2021-12-31\", auto_adjust=True)\n",
        "df.head()"
      ]
    },
    {
      "cell_type": "code",
      "execution_count": null,
      "metadata": {
        "colab": {
          "base_uri": "https://localhost:8080/"
        },
        "id": "xXv2wRABV8ul",
        "outputId": "88b60959-e97e-460e-eb89-0bfebea1333d"
      },
      "outputs": [
        {
          "data": {
            "text/plain": [
              "(3523, 5)"
            ]
          },
          "execution_count": 4,
          "metadata": {},
          "output_type": "execute_result"
        }
      ],
      "source": [
        "df.shape"
      ]
    },
    {
      "cell_type": "code",
      "execution_count": null,
      "metadata": {
        "colab": {
          "base_uri": "https://localhost:8080/"
        },
        "id": "uzix2KuYWBaI",
        "outputId": "12f13ca9-c26b-4f02-9546-5f87db3e5d50"
      },
      "outputs": [
        {
          "name": "stdout",
          "output_type": "stream",
          "text": [
            "<class 'pandas.core.frame.DataFrame'>\n",
            "DatetimeIndex: 3523 entries, 2008-01-02 to 2021-12-30\n",
            "Data columns (total 5 columns):\n",
            " #   Column  Non-Null Count  Dtype  \n",
            "---  ------  --------------  -----  \n",
            " 0   Open    3523 non-null   float64\n",
            " 1   High    3523 non-null   float64\n",
            " 2   Low     3523 non-null   float64\n",
            " 3   Close   3523 non-null   float64\n",
            " 4   Volume  3523 non-null   int64  \n",
            "dtypes: float64(4), int64(1)\n",
            "memory usage: 165.1 KB\n"
          ]
        }
      ],
      "source": [
        "df.info()"
      ]
    },
    {
      "cell_type": "code",
      "execution_count": null,
      "metadata": {
        "colab": {
          "base_uri": "https://localhost:8080/",
          "height": 300
        },
        "id": "VIF4UJodb7aX",
        "outputId": "dec4d22c-855b-4890-dd43-f2166ff1f0ff"
      },
      "outputs": [
        {
          "data": {
            "text/html": [
              "<div>\n",
              "<style scoped>\n",
              "    .dataframe tbody tr th:only-of-type {\n",
              "        vertical-align: middle;\n",
              "    }\n",
              "\n",
              "    .dataframe tbody tr th {\n",
              "        vertical-align: top;\n",
              "    }\n",
              "\n",
              "    .dataframe thead th {\n",
              "        text-align: right;\n",
              "    }\n",
              "</style>\n",
              "<table border=\"1\" class=\"dataframe\">\n",
              "  <thead>\n",
              "    <tr style=\"text-align: right;\">\n",
              "      <th></th>\n",
              "      <th>Open</th>\n",
              "      <th>High</th>\n",
              "      <th>Low</th>\n",
              "      <th>Close</th>\n",
              "      <th>Volume</th>\n",
              "    </tr>\n",
              "  </thead>\n",
              "  <tbody>\n",
              "    <tr>\n",
              "      <th>count</th>\n",
              "      <td>3523.000000</td>\n",
              "      <td>3523.000000</td>\n",
              "      <td>3523.000000</td>\n",
              "      <td>3523.000000</td>\n",
              "      <td>3523.000000</td>\n",
              "    </tr>\n",
              "    <tr>\n",
              "      <th>mean</th>\n",
              "      <td>2618.300312</td>\n",
              "      <td>2642.693727</td>\n",
              "      <td>2593.117230</td>\n",
              "      <td>2617.212319</td>\n",
              "      <td>9397.943798</td>\n",
              "    </tr>\n",
              "    <tr>\n",
              "      <th>std</th>\n",
              "      <td>386.240194</td>\n",
              "      <td>386.985523</td>\n",
              "      <td>385.111704</td>\n",
              "      <td>385.717656</td>\n",
              "      <td>9505.502560</td>\n",
              "    </tr>\n",
              "    <tr>\n",
              "      <th>min</th>\n",
              "      <td>1780.000000</td>\n",
              "      <td>1780.000000</td>\n",
              "      <td>1769.000000</td>\n",
              "      <td>1780.000000</td>\n",
              "      <td>0.000000</td>\n",
              "    </tr>\n",
              "    <tr>\n",
              "      <th>25%</th>\n",
              "      <td>2314.500000</td>\n",
              "      <td>2334.500000</td>\n",
              "      <td>2297.000000</td>\n",
              "      <td>2314.500000</td>\n",
              "      <td>15.000000</td>\n",
              "    </tr>\n",
              "    <tr>\n",
              "      <th>50%</th>\n",
              "      <td>2592.000000</td>\n",
              "      <td>2620.000000</td>\n",
              "      <td>2558.000000</td>\n",
              "      <td>2587.000000</td>\n",
              "      <td>8051.000000</td>\n",
              "    </tr>\n",
              "    <tr>\n",
              "      <th>75%</th>\n",
              "      <td>2925.000000</td>\n",
              "      <td>2950.000000</td>\n",
              "      <td>2903.000000</td>\n",
              "      <td>2924.500000</td>\n",
              "      <td>16428.500000</td>\n",
              "    </tr>\n",
              "    <tr>\n",
              "      <th>max</th>\n",
              "      <td>3807.000000</td>\n",
              "      <td>3826.000000</td>\n",
              "      <td>3807.000000</td>\n",
              "      <td>3774.000000</td>\n",
              "      <td>45041.000000</td>\n",
              "    </tr>\n",
              "  </tbody>\n",
              "</table>\n",
              "</div>"
            ],
            "text/plain": [
              "              Open         High          Low        Close        Volume\n",
              "count  3523.000000  3523.000000  3523.000000  3523.000000   3523.000000\n",
              "mean   2618.300312  2642.693727  2593.117230  2617.212319   9397.943798\n",
              "std     386.240194   386.985523   385.111704   385.717656   9505.502560\n",
              "min    1780.000000  1780.000000  1769.000000  1780.000000      0.000000\n",
              "25%    2314.500000  2334.500000  2297.000000  2314.500000     15.000000\n",
              "50%    2592.000000  2620.000000  2558.000000  2587.000000   8051.000000\n",
              "75%    2925.000000  2950.000000  2903.000000  2924.500000  16428.500000\n",
              "max    3807.000000  3826.000000  3807.000000  3774.000000  45041.000000"
            ]
          },
          "execution_count": 6,
          "metadata": {},
          "output_type": "execute_result"
        }
      ],
      "source": [
        "df.describe()"
      ]
    },
    {
      "cell_type": "code",
      "execution_count": null,
      "metadata": {
        "colab": {
          "base_uri": "https://localhost:8080/",
          "height": 449
        },
        "id": "TlEm_gkdcNix",
        "outputId": "89dd3386-5f5b-4d4b-97c9-0e650e760dc1"
      },
      "outputs": [
        {
          "data": {
            "text/plain": [
              "Text(0.5, 1.0, 'CC=F,')"
            ]
          },
          "execution_count": 7,
          "metadata": {},
          "output_type": "execute_result"
        },
        {
          "data": {
            "image/png": "[encoded data removed]",
            "text/plain": [
              "<Figure size 720x504 with 1 Axes>"
            ]
          },
          "metadata": {
            "needs_background": "light"
          },
          "output_type": "display_data"
        }
      ],
      "source": [
        "df.Close.plot(figsize=(10,7), color='r')\n",
        "plt.xlabel(\"Date\")\n",
        "plt.ylabel('{},'.format(stocks))\n",
        "plt.title('{},'.format(stocks))"
      ]
    },
    {
      "cell_type": "code",
      "execution_count": null,
      "metadata": {
        "id": "drgt6r03dgv7"
      },
      "outputs": [],
      "source": [
        "compression_opts = dict(method='zip',archive_name='out.csv')\n",
        "df.to_csv('out.zip',index=False, compression = compression_opts)"
      ]
    },
    {
      "cell_type": "code",
      "execution_count": null,
      "metadata": {
        "colab": {
          "base_uri": "https://localhost:8080/",
          "height": 351
        },
        "id": "d53Cm5Bgf_Ut",
        "outputId": "125387dd-17b1-4d38-c415-76023b42fcc6"
      },
      "outputs": [
        {
          "data": {
            "text/plain": [
              "<seaborn.axisgrid.FacetGrid at 0x2130cd46e20>"
            ]
          },
          "execution_count": 16,
          "metadata": {},
          "output_type": "execute_result"
        },
        {
          "data": {
            "image/png": "[encoded data removed]",
            "text/plain": [
              "<Figure size 360x360 with 1 Axes>"
            ]
          },
          "metadata": {
            "needs_background": "light"
          },
          "output_type": "display_data"
        }
      ],
      "source": [
        "sns.displot(df[\"Close\"])"
      ]
    },
    {
      "cell_type": "code",
      "execution_count": null,
      "metadata": {
        "colab": {
          "base_uri": "https://localhost:8080/",
          "height": 351
        },
        "id": "-br_prxgiMqZ",
        "outputId": "ec7ef8a7-e118-4ee7-fbe9-b54807702adc"
      },
      "outputs": [
        {
          "data": {
            "text/plain": [
              "<seaborn.axisgrid.FacetGrid at 0x2130cb9fe20>"
            ]
          },
          "execution_count": 15,
          "metadata": {},
          "output_type": "execute_result"
        },
        {
          "data": {
            "image/png": "[encoded data removed]",
            "text/plain": [
              "<Figure size 360x360 with 1 Axes>"
            ]
          },
          "metadata": {
            "needs_background": "light"
          },
          "output_type": "display_data"
        }
      ],
      "source": [
        "sns.displot(df[\"Open\"])"
      ]
    },
    {
      "cell_type": "code",
      "execution_count": null,
      "metadata": {
        "colab": {
          "base_uri": "https://localhost:8080/",
          "height": 351
        },
        "id": "IgEr7oiNiVeO",
        "outputId": "8dfdb6b7-a7b5-4680-e317-8bc898ab3644"
      },
      "outputs": [
        {
          "data": {
            "text/plain": [
              "<seaborn.axisgrid.FacetGrid at 0x2130cc34cd0>"
            ]
          },
          "execution_count": 17,
          "metadata": {},
          "output_type": "execute_result"
        },
        {
          "data": {
            "image/png": "[encoded data removed]",
            "text/plain": [
              "<Figure size 360x360 with 1 Axes>"
            ]
          },
          "metadata": {
            "needs_background": "light"
          },
          "output_type": "display_data"
        }
      ],
      "source": [
        "sns.displot(df[\"Low\"])"
      ]
    },
    {
      "cell_type": "code",
      "execution_count": null,
      "metadata": {
        "colab": {
          "base_uri": "https://localhost:8080/",
          "height": 351
        },
        "id": "cH_H3g9Oieoa",
        "outputId": "eb595630-1a76-49e2-8edf-614fba0ed251"
      },
      "outputs": [
        {
          "data": {
            "text/plain": [
              "<seaborn.axisgrid.FacetGrid at 0x2130ccaf070>"
            ]
          },
          "execution_count": 18,
          "metadata": {},
          "output_type": "execute_result"
        },
        {
          "data": {
            "image/png": "[encoded data removed]",
            "text/plain": [
              "<Figure size 360x360 with 1 Axes>"
            ]
          },
          "metadata": {
            "needs_background": "light"
          },
          "output_type": "display_data"
        }
      ],
      "source": [
        "sns.displot(df[\"Volume\"])"
      ]
    },
    {
      "cell_type": "code",
      "execution_count": null,
      "metadata": {
        "id": "HrR_bxkXJleq",
        "outputId": "cc822f29-93c9-4ee6-d264-bca7755338b3"
      },
      "outputs": [
        {
          "name": "stdout",
          "output_type": "stream",
          "text": [
            "(2642, 4)\n",
            "(881, 4)\n",
            "(2642,)\n",
            "(881,)\n"
          ]
        }
      ],
      "source": [
        "# Deductions  \n",
        "\n",
        "# - Shape of the data  \n",
        "# - how our data is distributed \n",
        "# - It's very very non linear  \n",
        "\n",
        "# models that can be used: Linear, Logis, Regularized, SVM \n",
        "\n",
        "X = df.drop(\"Close\", axis=1) \n",
        "y = df[\"Close\"] \n",
        "\n",
        "from sklearn.model_selection import train_test_split \n",
        "\n",
        "X_train, X_test, y_train, y_test  = train_test_split(X,y,test_size=0.25, random_state=42) \n",
        "print(X_train.shape) \n",
        "print(X_test.shape) \n",
        "print(y_train.shape) \n",
        "print(y_test.shape) "
      ]
    },
    {
      "cell_type": "code",
      "execution_count": null,
      "metadata": {
        "id": "42dVsTVAiirL"
      },
      "outputs": [],
      "source": [
        "from sklearn.linear_model import LinearRegression\n",
        "lr = LinearRegression()\n",
        "lr.fit(X_train,y_train)\n",
        "prediction1 = lr.predict(X_test)"
      ]
    },
    {
      "cell_type": "code",
      "execution_count": null,
      "metadata": {
        "id": "asDxkNd9Jler"
      },
      "outputs": [],
      "source": [
        "#Drawing a linear Regression Graph\n",
        "plt.plot.line(X_train,y_train[])"
      ]
    },
    {
      "cell_type": "code",
      "execution_count": null,
      "metadata": {
        "id": "aki2EjSGJler",
        "outputId": "6556f79e-0dcd-4ebb-d640-9b10b2682899"
      },
      "outputs": [
        {
          "name": "stdout",
          "output_type": "stream",
          "text": [
            "MSE:-  342.8911558474752\n",
            "RMSE:-  18.51732042838475\n",
            "R2_score:-  0.9976244290218976\n"
          ]
        }
      ],
      "source": [
        "from sklearn.metrics import mean_squared_error,r2_score\n",
        "\n",
        "def calculate_metrics(y_test,y_pred):\n",
        "    \n",
        "    '''\n",
        "      groundTruth: y_test\n",
        "      predictedValues: y_pred\n",
        "    '''\n",
        "    \n",
        "    mse = mean_squared_error(y_test,y_pred)\n",
        "    rmse = np.sqrt(mse)\n",
        "    r2 = r2_score(y_test,y_pred)\n",
        "    \n",
        "    print(\"MSE:- \", mse) \n",
        "    print(\"RMSE:- \", rmse) \n",
        "    print(\"R2_score:- \", r2)\n",
        "    \n",
        "calculate_metrics(y_test,prediction1)"
      ]
    },
    {
      "cell_type": "code",
      "execution_count": null,
      "metadata": {
        "id": "vI_kT3F_Jles",
        "outputId": "0dbaed5a-ae9f-4683-a0ba-7928c57829d5"
      },
      "outputs": [
        {
          "name": "stderr",
          "output_type": "stream",
          "text": [
            "C:\\Users\\Kyle\\Anaconda3\\lib\\site-packages\\sklearn\\linear_model\\_coordinate_descent.py:530: ConvergenceWarning: Objective did not converge. You might want to increase the number of iterations. Duality gap: 182766.63231383963, tolerance: 39677.970729182445\n",
            "  model = cd_fast.enet_coordinate_descent(\n"
          ]
        }
      ],
      "source": [
        "from sklearn.linear_model import Lasso, Ridge \n",
        "\n",
        "la = Lasso().fit(X_train, y_train )\n",
        "ri = Ridge().fit(X_train, y_train ) \n",
        "\n",
        "la_p = la.predict(X_test) \n",
        "ri_p = ri.predict(X_test)"
      ]
    },
    {
      "cell_type": "code",
      "execution_count": null,
      "metadata": {
        "id": "5-z9_iZlJles",
        "outputId": "0af93602-1f28-4404-9235-37ded2c9d542"
      },
      "outputs": [
        {
          "name": "stdout",
          "output_type": "stream",
          "text": [
            "MSE:-  343.25041889791646\n",
            "RMSE:-  18.527018618707018\n",
            "R2_score:-  0.9976219400254287\n"
          ]
        }
      ],
      "source": [
        "calculate_metrics(y_test, la_predict)"
      ]
    },
    {
      "cell_type": "code",
      "execution_count": null,
      "metadata": {
        "id": "JRk-BM8ZJles",
        "outputId": "18d4380b-6516-43d6-c9d5-3a47d19eb5be"
      },
      "outputs": [
        {
          "name": "stdout",
          "output_type": "stream",
          "text": [
            "MSE:-  342.8912286370059\n",
            "RMSE:-  18.517322393829133\n",
            "R2_score:-  0.9976244285176074\n"
          ]
        }
      ],
      "source": [
        "calculate_metrics(y_test, ri_predict)"
      ]
    },
    {
      "cell_type": "code",
      "execution_count": null,
      "metadata": {
        "id": "82ny6A_pJles",
        "outputId": "d5f5c058-6eb0-4a2d-be41-e6ed8bc249a5"
      },
      "outputs": [
        {
          "name": "stdout",
          "output_type": "stream",
          "text": [
            "Fitting 5 folds for each of 25 candidates, totalling 125 fits\n",
            "[CV 1/5] END .......C=0.1, gamma=1, kernel=rbf;, score=-0.003 total time=   1.2s\n",
            "[CV 2/5] END .......C=0.1, gamma=1, kernel=rbf;, score=-0.007 total time=   1.1s\n",
            "[CV 3/5] END .......C=0.1, gamma=1, kernel=rbf;, score=-0.000 total time=   0.6s\n",
            "[CV 4/5] END .......C=0.1, gamma=1, kernel=rbf;, score=-0.017 total time=   0.6s\n",
            "[CV 5/5] END .......C=0.1, gamma=1, kernel=rbf;, score=-0.008 total time=   1.2s\n",
            "[CV 1/5] END .....C=0.1, gamma=0.1, kernel=rbf;, score=-0.003 total time=   1.2s\n",
            "[CV 2/5] END .....C=0.1, gamma=0.1, kernel=rbf;, score=-0.007 total time=   1.2s\n",
            "[CV 3/5] END .....C=0.1, gamma=0.1, kernel=rbf;, score=-0.000 total time=   1.3s\n",
            "[CV 4/5] END .....C=0.1, gamma=0.1, kernel=rbf;, score=-0.017 total time=   1.2s\n",
            "[CV 5/5] END .....C=0.1, gamma=0.1, kernel=rbf;, score=-0.008 total time=   1.3s\n",
            "[CV 1/5] END ....C=0.1, gamma=0.01, kernel=rbf;, score=-0.003 total time=   1.2s\n",
            "[CV 2/5] END ....C=0.1, gamma=0.01, kernel=rbf;, score=-0.007 total time=   1.2s\n",
            "[CV 3/5] END ....C=0.1, gamma=0.01, kernel=rbf;, score=-0.000 total time=   1.2s\n",
            "[CV 4/5] END ....C=0.1, gamma=0.01, kernel=rbf;, score=-0.017 total time=   1.2s\n",
            "[CV 5/5] END ....C=0.1, gamma=0.01, kernel=rbf;, score=-0.008 total time=   1.2s\n",
            "[CV 1/5] END ...C=0.1, gamma=0.001, kernel=rbf;, score=-0.002 total time=   0.6s\n",
            "[CV 2/5] END ...C=0.1, gamma=0.001, kernel=rbf;, score=-0.006 total time=   0.6s\n",
            "[CV 3/5] END ....C=0.1, gamma=0.001, kernel=rbf;, score=0.001 total time=   1.1s\n",
            "[CV 4/5] END ...C=0.1, gamma=0.001, kernel=rbf;, score=-0.016 total time=   1.2s\n",
            "[CV 5/5] END ...C=0.1, gamma=0.001, kernel=rbf;, score=-0.007 total time=   1.2s\n",
            "[CV 1/5] END ...C=0.1, gamma=0.0001, kernel=rbf;, score=0.004 total time=   1.2s\n",
            "[CV 2/5] END ..C=0.1, gamma=0.0001, kernel=rbf;, score=-0.000 total time=   1.2s\n",
            "[CV 3/5] END ...C=0.1, gamma=0.0001, kernel=rbf;, score=0.006 total time=   1.2s\n",
            "[CV 4/5] END ..C=0.1, gamma=0.0001, kernel=rbf;, score=-0.011 total time=   1.2s\n",
            "[CV 5/5] END ..C=0.1, gamma=0.0001, kernel=rbf;, score=-0.001 total time=   1.2s\n",
            "[CV 1/5] END .........C=1, gamma=1, kernel=rbf;, score=-0.002 total time=   1.2s\n",
            "[CV 2/5] END .........C=1, gamma=1, kernel=rbf;, score=-0.007 total time=   1.2s\n",
            "[CV 3/5] END .........C=1, gamma=1, kernel=rbf;, score=-0.000 total time=   1.2s\n",
            "[CV 4/5] END .........C=1, gamma=1, kernel=rbf;, score=-0.017 total time=   0.7s\n",
            "[CV 5/5] END .........C=1, gamma=1, kernel=rbf;, score=-0.008 total time=   0.7s\n",
            "[CV 1/5] END .......C=1, gamma=0.1, kernel=rbf;, score=-0.002 total time=   0.9s\n",
            "[CV 2/5] END .......C=1, gamma=0.1, kernel=rbf;, score=-0.006 total time=   1.2s\n",
            "[CV 3/5] END .......C=1, gamma=0.1, kernel=rbf;, score=-0.000 total time=   1.3s\n",
            "[CV 4/5] END .......C=1, gamma=0.1, kernel=rbf;, score=-0.017 total time=   1.2s\n",
            "[CV 5/5] END .......C=1, gamma=0.1, kernel=rbf;, score=-0.008 total time=   1.2s\n",
            "[CV 1/5] END ......C=1, gamma=0.01, kernel=rbf;, score=-0.001 total time=   1.2s\n",
            "[CV 2/5] END ......C=1, gamma=0.01, kernel=rbf;, score=-0.005 total time=   1.3s\n",
            "[CV 3/5] END .......C=1, gamma=0.01, kernel=rbf;, score=0.001 total time=   1.2s\n",
            "[CV 4/5] END ......C=1, gamma=0.01, kernel=rbf;, score=-0.016 total time=   1.2s\n",
            "[CV 5/5] END ......C=1, gamma=0.01, kernel=rbf;, score=-0.006 total time=   1.2s\n",
            "[CV 1/5] END ......C=1, gamma=0.001, kernel=rbf;, score=0.009 total time=   1.2s\n",
            "[CV 2/5] END ......C=1, gamma=0.001, kernel=rbf;, score=0.004 total time=   0.7s\n",
            "[CV 3/5] END ......C=1, gamma=0.001, kernel=rbf;, score=0.011 total time=   0.7s\n",
            "[CV 4/5] END .....C=1, gamma=0.001, kernel=rbf;, score=-0.007 total time=   0.7s\n",
            "[CV 5/5] END ......C=1, gamma=0.001, kernel=rbf;, score=0.004 total time=   1.2s\n",
            "[CV 1/5] END .....C=1, gamma=0.0001, kernel=rbf;, score=0.061 total time=   1.2s\n",
            "[CV 2/5] END .....C=1, gamma=0.0001, kernel=rbf;, score=0.054 total time=   1.2s\n",
            "[CV 3/5] END .....C=1, gamma=0.0001, kernel=rbf;, score=0.062 total time=   1.2s\n",
            "[CV 4/5] END .....C=1, gamma=0.0001, kernel=rbf;, score=0.043 total time=   1.2s\n",
            "[CV 5/5] END .....C=1, gamma=0.0001, kernel=rbf;, score=0.058 total time=   1.2s\n",
            "[CV 1/5] END ........C=10, gamma=1, kernel=rbf;, score=-0.001 total time=   1.2s\n",
            "[CV 2/5] END ........C=10, gamma=1, kernel=rbf;, score=-0.006 total time=   1.2s\n",
            "[CV 3/5] END .........C=10, gamma=1, kernel=rbf;, score=0.001 total time=   1.2s\n",
            "[CV 4/5] END ........C=10, gamma=1, kernel=rbf;, score=-0.017 total time=   1.2s\n",
            "[CV 5/5] END ........C=10, gamma=1, kernel=rbf;, score=-0.007 total time=   1.1s\n",
            "[CV 1/5] END .......C=10, gamma=0.1, kernel=rbf;, score=0.002 total time=   0.7s\n",
            "[CV 2/5] END ......C=10, gamma=0.1, kernel=rbf;, score=-0.004 total time=   0.6s\n",
            "[CV 3/5] END .......C=10, gamma=0.1, kernel=rbf;, score=0.003 total time=   1.2s\n",
            "[CV 4/5] END ......C=10, gamma=0.1, kernel=rbf;, score=-0.015 total time=   1.2s\n",
            "[CV 5/5] END ......C=10, gamma=0.1, kernel=rbf;, score=-0.004 total time=   1.1s\n",
            "[CV 1/5] END ......C=10, gamma=0.01, kernel=rbf;, score=0.016 total time=   1.2s\n",
            "[CV 2/5] END ......C=10, gamma=0.01, kernel=rbf;, score=0.009 total time=   1.2s\n",
            "[CV 3/5] END ......C=10, gamma=0.01, kernel=rbf;, score=0.016 total time=   1.2s\n",
            "[CV 4/5] END .....C=10, gamma=0.01, kernel=rbf;, score=-0.002 total time=   1.2s\n",
            "[CV 5/5] END ......C=10, gamma=0.01, kernel=rbf;, score=0.011 total time=   1.2s\n",
            "[CV 1/5] END .....C=10, gamma=0.001, kernel=rbf;, score=0.096 total time=   1.2s\n",
            "[CV 2/5] END .....C=10, gamma=0.001, kernel=rbf;, score=0.078 total time=   1.2s\n",
            "[CV 3/5] END .....C=10, gamma=0.001, kernel=rbf;, score=0.096 total time=   1.1s\n",
            "[CV 4/5] END .....C=10, gamma=0.001, kernel=rbf;, score=0.075 total time=   0.6s\n",
            "[CV 5/5] END .....C=10, gamma=0.001, kernel=rbf;, score=0.092 total time=   0.6s\n",
            "[CV 1/5] END ....C=10, gamma=0.0001, kernel=rbf;, score=0.295 total time=   1.2s\n",
            "[CV 2/5] END ....C=10, gamma=0.0001, kernel=rbf;, score=0.279 total time=   1.2s\n",
            "[CV 3/5] END ....C=10, gamma=0.0001, kernel=rbf;, score=0.299 total time=   1.2s\n",
            "[CV 4/5] END ....C=10, gamma=0.0001, kernel=rbf;, score=0.282 total time=   1.2s\n",
            "[CV 5/5] END ....C=10, gamma=0.0001, kernel=rbf;, score=0.314 total time=   1.2s\n",
            "[CV 1/5] END ........C=100, gamma=1, kernel=rbf;, score=0.006 total time=   1.2s\n",
            "[CV 2/5] END .......C=100, gamma=1, kernel=rbf;, score=-0.004 total time=   1.2s\n",
            "[CV 3/5] END ........C=100, gamma=1, kernel=rbf;, score=0.005 total time=   1.2s\n",
            "[CV 4/5] END .......C=100, gamma=1, kernel=rbf;, score=-0.013 total time=   1.2s\n",
            "[CV 5/5] END .......C=100, gamma=1, kernel=rbf;, score=-0.001 total time=   1.3s\n",
            "[CV 1/5] END ......C=100, gamma=0.1, kernel=rbf;, score=0.029 total time=   1.2s\n",
            "[CV 2/5] END ......C=100, gamma=0.1, kernel=rbf;, score=0.014 total time=   0.7s\n",
            "[CV 3/5] END ......C=100, gamma=0.1, kernel=rbf;, score=0.024 total time=   0.5s\n",
            "[CV 4/5] END ......C=100, gamma=0.1, kernel=rbf;, score=0.009 total time=   1.2s\n",
            "[CV 5/5] END ......C=100, gamma=0.1, kernel=rbf;, score=0.023 total time=   1.2s\n",
            "[CV 1/5] END .....C=100, gamma=0.01, kernel=rbf;, score=0.111 total time=   1.3s\n",
            "[CV 2/5] END .....C=100, gamma=0.01, kernel=rbf;, score=0.090 total time=   1.3s\n",
            "[CV 3/5] END .....C=100, gamma=0.01, kernel=rbf;, score=0.103 total time=   1.3s\n",
            "[CV 4/5] END .....C=100, gamma=0.01, kernel=rbf;, score=0.099 total time=   1.3s\n",
            "[CV 5/5] END .....C=100, gamma=0.01, kernel=rbf;, score=0.115 total time=   1.3s\n",
            "[CV 1/5] END ....C=100, gamma=0.001, kernel=rbf;, score=0.303 total time=   1.4s\n",
            "[CV 2/5] END ....C=100, gamma=0.001, kernel=rbf;, score=0.276 total time=   1.4s\n",
            "[CV 3/5] END ....C=100, gamma=0.001, kernel=rbf;, score=0.313 total time=   1.4s\n",
            "[CV 4/5] END ....C=100, gamma=0.001, kernel=rbf;, score=0.282 total time=   0.9s\n",
            "[CV 5/5] END ....C=100, gamma=0.001, kernel=rbf;, score=0.315 total time=   0.7s\n",
            "[CV 1/5] END ...C=100, gamma=0.0001, kernel=rbf;, score=0.516 total time=   1.2s\n",
            "[CV 2/5] END ...C=100, gamma=0.0001, kernel=rbf;, score=0.493 total time=   1.7s\n",
            "[CV 3/5] END ...C=100, gamma=0.0001, kernel=rbf;, score=0.511 total time=   1.4s\n",
            "[CV 4/5] END ...C=100, gamma=0.0001, kernel=rbf;, score=0.497 total time=   1.5s\n",
            "[CV 5/5] END ...C=100, gamma=0.0001, kernel=rbf;, score=0.526 total time=   1.5s\n",
            "[CV 1/5] END .......C=1000, gamma=1, kernel=rbf;, score=0.017 total time=   1.7s\n"
          ]
        },
        {
          "name": "stdout",
          "output_type": "stream",
          "text": [
            "[CV 2/5] END .......C=1000, gamma=1, kernel=rbf;, score=0.007 total time=   1.7s\n",
            "[CV 3/5] END .......C=1000, gamma=1, kernel=rbf;, score=0.011 total time=   1.7s\n",
            "[CV 4/5] END .......C=1000, gamma=1, kernel=rbf;, score=0.011 total time=   1.6s\n",
            "[CV 5/5] END .......C=1000, gamma=1, kernel=rbf;, score=0.016 total time=   0.9s\n",
            "[CV 1/5] END .....C=1000, gamma=0.1, kernel=rbf;, score=0.073 total time=   1.1s\n",
            "[CV 2/5] END .....C=1000, gamma=0.1, kernel=rbf;, score=0.055 total time=   1.7s\n",
            "[CV 3/5] END .....C=1000, gamma=0.1, kernel=rbf;, score=0.051 total time=   1.7s\n",
            "[CV 4/5] END .....C=1000, gamma=0.1, kernel=rbf;, score=0.062 total time=   1.7s\n",
            "[CV 5/5] END .....C=1000, gamma=0.1, kernel=rbf;, score=0.078 total time=   1.7s\n",
            "[CV 1/5] END ....C=1000, gamma=0.01, kernel=rbf;, score=0.193 total time=   2.0s\n",
            "[CV 2/5] END ....C=1000, gamma=0.01, kernel=rbf;, score=0.177 total time=   2.3s\n",
            "[CV 3/5] END ....C=1000, gamma=0.01, kernel=rbf;, score=0.190 total time=   2.0s\n",
            "[CV 4/5] END ....C=1000, gamma=0.01, kernel=rbf;, score=0.188 total time=   1.1s\n",
            "[CV 5/5] END ....C=1000, gamma=0.01, kernel=rbf;, score=0.214 total time=   2.0s\n",
            "[CV 1/5] END ...C=1000, gamma=0.001, kernel=rbf;, score=0.366 total time=   4.1s\n",
            "[CV 2/5] END ...C=1000, gamma=0.001, kernel=rbf;, score=0.375 total time=   4.8s\n",
            "[CV 3/5] END ...C=1000, gamma=0.001, kernel=rbf;, score=0.396 total time=   3.7s\n",
            "[CV 4/5] END ...C=1000, gamma=0.001, kernel=rbf;, score=0.347 total time=   6.2s\n",
            "[CV 5/5] END ...C=1000, gamma=0.001, kernel=rbf;, score=0.375 total time=   5.6s\n",
            "[CV 1/5] END ..C=1000, gamma=0.0001, kernel=rbf;, score=0.689 total time=   5.7s\n",
            "[CV 2/5] END ..C=1000, gamma=0.0001, kernel=rbf;, score=0.629 total time=  13.9s\n",
            "[CV 3/5] END ..C=1000, gamma=0.0001, kernel=rbf;, score=0.651 total time=   6.5s\n",
            "[CV 4/5] END ..C=1000, gamma=0.0001, kernel=rbf;, score=0.666 total time=   9.2s\n",
            "[CV 5/5] END ..C=1000, gamma=0.0001, kernel=rbf;, score=0.672 total time=  10.8s\n"
          ]
        },
        {
          "data": {
            "text/plain": [
              "GridSearchCV(estimator=SVR(),\n",
              "             param_grid={'C': [0.1, 1, 10, 100, 1000],\n",
              "                         'gamma': [1, 0.1, 0.01, 0.001, 0.0001],\n",
              "                         'kernel': ['rbf']},\n",
              "             verbose=3)"
            ]
          },
          "execution_count": 53,
          "metadata": {},
          "output_type": "execute_result"
        }
      ],
      "source": [
        "from sklearn.svm import SVR\n",
        "from sklearn.model_selection import GridSearchCV\n",
        "\n",
        "svr = SVR()\n",
        "\n",
        "param_grid = {'C': [0.1, 1, 10, 100, 1000],  \n",
        "              'gamma': [1, 0.1, 0.01, 0.001, 0.0001], \n",
        "              'kernel': ['rbf']}   \n",
        "\n",
        "grid = GridSearchCV(SVR(), param_grid, refit=True, verbose=3)    \n",
        "grid.fit(X_train, y_train)"
      ]
    },
    {
      "cell_type": "code",
      "execution_count": null,
      "metadata": {
        "id": "7JMZREzaJlet"
      },
      "outputs": [],
      "source": [
        "svr = SVR(C=10, gamma=0.01, kernel='rbf') \n",
        "svr.fit(X_train, y_train) \n",
        "svr_pred = svr.predict(X_test) "
      ]
    },
    {
      "cell_type": "code",
      "execution_count": null,
      "metadata": {
        "id": "gRSHJFE4Jlet"
      },
      "outputs": [],
      "source": [
        "import joblib  \n",
        "\n",
        "joblib.dump(ri, 'model.pkl') \n",
        "\n",
        "ridge_from_joblib = model = joblib.load(\"model.pkl\")"
      ]
    },
    {
      "cell_type": "code",
      "execution_count": null,
      "metadata": {
        "id": "Q2JRd2_sJlet"
      },
      "outputs": [],
      "source": [
        ""
      ]
    }
  ],
  "metadata": {
    "colab": {
      "collapsed_sections": [],
      "name": "COCOA_STOCK_PRICE_PREDICTOR.ipynb",
      "provenance": [],
      "include_colab_link": true
    },
    "kernelspec": {
      "display_name": "Python 3 (ipykernel)",
      "language": "python",
      "name": "python3"
    },
    "language_info": {
      "codemirror_mode": {
        "name": "ipython",
        "version": 3
      },
      "file_extension": ".py",
      "mimetype": "text/x-python",
      "name": "python",
      "nbconvert_exporter": "python",
      "pygments_lexer": "ipython3",
      "version": "3.9.7"
    }
  },
  "nbformat": 4,
  "nbformat_minor": 0
}